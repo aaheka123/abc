{
 "cells": [
  {
   "cell_type": "code",
   "execution_count": 19,
   "id": "6a6380d6",
   "metadata": {},
   "outputs": [
    {
     "name": "stdout",
     "output_type": "stream",
     "text": [
      "Requirement already satisfied: keras in c:\\users\\praja\\anaconda3\\lib\\site-packages (2.10.0)\n"
     ]
    }
   ],
   "source": [
    "!pip install keras"
   ]
  },
  {
   "cell_type": "code",
   "execution_count": 20,
   "id": "881f18d0",
   "metadata": {},
   "outputs": [],
   "source": [
    "from tensorflow.keras.datasets import cifar10\n",
    "from matplotlib import pyplot"
   ]
  },
  {
   "cell_type": "code",
   "execution_count": 27,
   "id": "420a353d",
   "metadata": {},
   "outputs": [],
   "source": [
    "(x_train,y_train),(x_test,y_test)=cifar10.load_data()"
   ]
  },
  {
   "cell_type": "code",
   "execution_count": 33,
   "id": "908591d5",
   "metadata": {},
   "outputs": [],
   "source": [
    "import numpy\n",
    "from keras.datasets import cifar10\n",
    "from keras.models import Sequential \n",
    "from keras.layers import Dense\n",
    "from keras.layers import Dropout\n",
    "from keras.layers import Flatten\n",
    "from keras.constraints import maxnorm\n",
    "from keras.optimizers import SGD\n",
    "from keras.layers.convolutional import Convolution2D\n",
    "from keras.layers.convolutional import MaxPooling2D\n",
    "from keras.utils import np_utils\n",
    "from keras import backend as K\n",
    "\n",
    "\n",
    "\n",
    "\n"
   ]
  },
  {
   "cell_type": "code",
   "execution_count": 34,
   "id": "4db920fd",
   "metadata": {},
   "outputs": [],
   "source": [
    "seed=7\n",
    "numpy.random.seed(seed)"
   ]
  },
  {
   "cell_type": "code",
   "execution_count": 36,
   "id": "0b44ddbd",
   "metadata": {},
   "outputs": [],
   "source": [
    "(x_train,y_train),(x_test,y_test)=cifar10.load_data()"
   ]
  },
  {
   "cell_type": "code",
   "execution_count": 37,
   "id": "1c7b9d4b",
   "metadata": {},
   "outputs": [],
   "source": [
    "x_train=x_train.astype('float32')\n",
    "x_test=x_test.astype('float32')\n",
    "x_train=x_train/255.0\n",
    "x_test=x_test/255.0"
   ]
  },
  {
   "cell_type": "code",
   "execution_count": 38,
   "id": "728fec2f",
   "metadata": {},
   "outputs": [],
   "source": [
    "y_train=np_utils.to_categorical(y_train)\n",
    "y_test=np_utils.to_categorical(y_test)\n",
    "num_classes=y_test.shape[1]"
   ]
  },
  {
   "cell_type": "code",
   "execution_count": 47,
   "id": "c7faa40c",
   "metadata": {},
   "outputs": [],
   "source": [
    "model=Sequential()\n",
    "model.add(Convolution2D(32,(3,3),input_shape=(32,32,3),activation='relu'))\n",
    "model.add(Dropout(0.2))\n",
    "model.add(Convolution2D(32,3,3,activation='relu',))\n",
    "model.add(MaxPooling2D(pool_size=(2,2)))\n",
    "model.add(Flatten())\n",
    "model.add(Dense(512,activation='relu',))\n",
    "model.add(Dropout(0.5))\n",
    "model.add(Dense(num_classes,activation='softmax'))"
   ]
  },
  {
   "cell_type": "code",
   "execution_count": 53,
   "id": "fa4dbec6",
   "metadata": {},
   "outputs": [
    {
     "name": "stderr",
     "output_type": "stream",
     "text": [
      "C:\\Users\\praja\\anaconda3\\lib\\site-packages\\keras\\optimizers\\optimizer_v2\\gradient_descent.py:111: UserWarning: The `lr` argument is deprecated, use `learning_rate` instead.\n",
      "  super().__init__(name, **kwargs)\n"
     ]
    }
   ],
   "source": [
    "epochs=25\n",
    "lrate=0.01\n",
    "decay=lrate/epochs\n",
    "sgd=SGD(lr=lrate,momentum=0.9,decay=decay,nesterov=False)\n",
    "model.compile(loss='categorical_crossentropy',optimizer=sgd,metrics=['accuracy'])\n"
   ]
  },
  {
   "cell_type": "code",
   "execution_count": 54,
   "id": "9442d4c7",
   "metadata": {},
   "outputs": [
    {
     "name": "stdout",
     "output_type": "stream",
     "text": [
      "Model: \"sequential_8\"\n",
      "_________________________________________________________________\n",
      " Layer (type)                Output Shape              Param #   \n",
      "=================================================================\n",
      " conv2d_11 (Conv2D)          (None, 30, 30, 32)        896       \n",
      "                                                                 \n",
      " dropout_5 (Dropout)         (None, 30, 30, 32)        0         \n",
      "                                                                 \n",
      " conv2d_12 (Conv2D)          (None, 10, 10, 32)        9248      \n",
      "                                                                 \n",
      " max_pooling2d_4 (MaxPooling  (None, 5, 5, 32)         0         \n",
      " 2D)                                                             \n",
      "                                                                 \n",
      " flatten_3 (Flatten)         (None, 800)               0         \n",
      "                                                                 \n",
      " dense_2 (Dense)             (None, 512)               410112    \n",
      "                                                                 \n",
      " dropout_6 (Dropout)         (None, 512)               0         \n",
      "                                                                 \n",
      " dense_3 (Dense)             (None, 10)                5130      \n",
      "                                                                 \n",
      "=================================================================\n",
      "Total params: 425,386\n",
      "Trainable params: 425,386\n",
      "Non-trainable params: 0\n",
      "_________________________________________________________________\n",
      "None\n"
     ]
    }
   ],
   "source": [
    "print(model.summary())\n"
   ]
  },
  {
   "cell_type": "code",
   "execution_count": 56,
   "id": "d5a642b8",
   "metadata": {},
   "outputs": [
    {
     "name": "stdout",
     "output_type": "stream",
     "text": [
      "Epoch 1/25\n",
      "5000/5000 [==============================] - 33s 6ms/step - loss: 1.7478 - accuracy: 0.3608 - val_loss: 1.3984 - val_accuracy: 0.4993\n",
      "Epoch 2/25\n",
      "5000/5000 [==============================] - 33s 7ms/step - loss: 1.4132 - accuracy: 0.4919 - val_loss: 1.2683 - val_accuracy: 0.5458\n",
      "Epoch 3/25\n",
      "5000/5000 [==============================] - 31s 6ms/step - loss: 1.3039 - accuracy: 0.5331 - val_loss: 1.2134 - val_accuracy: 0.5721\n",
      "Epoch 4/25\n",
      "5000/5000 [==============================] - 32s 6ms/step - loss: 1.2284 - accuracy: 0.5638 - val_loss: 1.1504 - val_accuracy: 0.5901\n",
      "Epoch 5/25\n",
      "5000/5000 [==============================] - 32s 6ms/step - loss: 1.1709 - accuracy: 0.5827 - val_loss: 1.1183 - val_accuracy: 0.6036\n",
      "Epoch 6/25\n",
      "5000/5000 [==============================] - 32s 6ms/step - loss: 1.1266 - accuracy: 0.5997 - val_loss: 1.0988 - val_accuracy: 0.6081\n",
      "Epoch 7/25\n",
      "5000/5000 [==============================] - 33s 7ms/step - loss: 1.0903 - accuracy: 0.6142 - val_loss: 1.0851 - val_accuracy: 0.6200\n",
      "Epoch 8/25\n",
      "5000/5000 [==============================] - 33s 7ms/step - loss: 1.0650 - accuracy: 0.6224 - val_loss: 1.0640 - val_accuracy: 0.6239\n",
      "Epoch 9/25\n",
      "5000/5000 [==============================] - 33s 7ms/step - loss: 1.0320 - accuracy: 0.6317 - val_loss: 1.0411 - val_accuracy: 0.6358\n",
      "Epoch 10/25\n",
      "5000/5000 [==============================] - 32s 6ms/step - loss: 1.0101 - accuracy: 0.6422 - val_loss: 1.0604 - val_accuracy: 0.6283\n",
      "Epoch 11/25\n",
      "5000/5000 [==============================] - 33s 7ms/step - loss: 0.9883 - accuracy: 0.6505 - val_loss: 1.0333 - val_accuracy: 0.6371\n",
      "Epoch 12/25\n",
      "5000/5000 [==============================] - 35s 7ms/step - loss: 0.9711 - accuracy: 0.6540 - val_loss: 1.0140 - val_accuracy: 0.6454\n",
      "Epoch 13/25\n",
      "5000/5000 [==============================] - 34s 7ms/step - loss: 0.9539 - accuracy: 0.6612 - val_loss: 0.9996 - val_accuracy: 0.6514\n",
      "Epoch 14/25\n",
      "5000/5000 [==============================] - 33s 7ms/step - loss: 0.9426 - accuracy: 0.6663 - val_loss: 1.0028 - val_accuracy: 0.6514\n",
      "Epoch 15/25\n",
      "5000/5000 [==============================] - 33s 7ms/step - loss: 0.9233 - accuracy: 0.6708 - val_loss: 0.9975 - val_accuracy: 0.6550\n",
      "Epoch 16/25\n",
      "5000/5000 [==============================] - 33s 7ms/step - loss: 0.9110 - accuracy: 0.6797 - val_loss: 0.9905 - val_accuracy: 0.6563\n",
      "Epoch 17/25\n",
      "5000/5000 [==============================] - 33s 7ms/step - loss: 0.8960 - accuracy: 0.6802 - val_loss: 0.9834 - val_accuracy: 0.6597\n",
      "Epoch 18/25\n",
      "5000/5000 [==============================] - 33s 7ms/step - loss: 0.8833 - accuracy: 0.6878 - val_loss: 0.9799 - val_accuracy: 0.6604\n",
      "Epoch 19/25\n",
      "5000/5000 [==============================] - 33s 7ms/step - loss: 0.8765 - accuracy: 0.6891 - val_loss: 0.9769 - val_accuracy: 0.6624\n",
      "Epoch 20/25\n",
      "5000/5000 [==============================] - 32s 6ms/step - loss: 0.8678 - accuracy: 0.6941 - val_loss: 0.9787 - val_accuracy: 0.6628\n",
      "Epoch 21/25\n",
      "5000/5000 [==============================] - 32s 6ms/step - loss: 0.8548 - accuracy: 0.6993 - val_loss: 0.9719 - val_accuracy: 0.6668\n",
      "Epoch 22/25\n",
      "5000/5000 [==============================] - 32s 6ms/step - loss: 0.8518 - accuracy: 0.6976 - val_loss: 0.9799 - val_accuracy: 0.6657\n",
      "Epoch 23/25\n",
      "5000/5000 [==============================] - 35s 7ms/step - loss: 0.8357 - accuracy: 0.7028 - val_loss: 0.9680 - val_accuracy: 0.6685\n",
      "Epoch 24/25\n",
      "5000/5000 [==============================] - 32s 6ms/step - loss: 0.8306 - accuracy: 0.7042 - val_loss: 0.9632 - val_accuracy: 0.6672\n",
      "Epoch 25/25\n",
      "5000/5000 [==============================] - 33s 7ms/step - loss: 0.8234 - accuracy: 0.7105 - val_loss: 0.9668 - val_accuracy: 0.6710\n"
     ]
    },
    {
     "data": {
      "text/plain": [
       "<keras.callbacks.History at 0x2cf81396100>"
      ]
     },
     "execution_count": 56,
     "metadata": {},
     "output_type": "execute_result"
    }
   ],
   "source": [
    "model.fit(x_train,y_train,validation_data=(x_test,y_test),epochs=epochs,batch_size=10,verbose=1)"
   ]
  },
  {
   "cell_type": "code",
   "execution_count": 1,
   "id": "91eb6c13",
   "metadata": {},
   "outputs": [
    {
     "ename": "NameError",
     "evalue": "name 'accuracy_score' is not defined",
     "output_type": "error",
     "traceback": [
      "\u001b[1;31m---------------------------------------------------------------------------\u001b[0m",
      "\u001b[1;31mNameError\u001b[0m                                 Traceback (most recent call last)",
      "\u001b[1;32m~\\AppData\\Local\\Temp\\ipykernel_4688\\796686056.py\u001b[0m in \u001b[0;36m<module>\u001b[1;34m\u001b[0m\n\u001b[1;32m----> 1\u001b[1;33m \u001b[0maccuracy_score\u001b[0m\u001b[1;33m(\u001b[0m\u001b[0mtest_data\u001b[0m\u001b[1;33m,\u001b[0m\u001b[0mpredictions\u001b[0m\u001b[1;33m)\u001b[0m\u001b[1;33m\u001b[0m\u001b[1;33m\u001b[0m\u001b[0m\n\u001b[0m",
      "\u001b[1;31mNameError\u001b[0m: name 'accuracy_score' is not defined"
     ]
    }
   ],
   "source": []
  },
  {
   "cell_type": "code",
   "execution_count": null,
   "id": "418b5bd6",
   "metadata": {},
   "outputs": [],
   "source": []
  }
 ],
 "metadata": {
  "kernelspec": {
   "display_name": "Python 3 (ipykernel)",
   "language": "python",
   "name": "python3"
  },
  "language_info": {
   "codemirror_mode": {
    "name": "ipython",
    "version": 3
   },
   "file_extension": ".py",
   "mimetype": "text/x-python",
   "name": "python",
   "nbconvert_exporter": "python",
   "pygments_lexer": "ipython3",
   "version": "3.9.13"
  }
 },
 "nbformat": 4,
 "nbformat_minor": 5
}
